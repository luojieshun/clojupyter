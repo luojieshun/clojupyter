{
 "cells": [
  {
   "cell_type": "code",
   "execution_count": 1,
   "metadata": {
    "collapsed": false
   },
   "outputs": [],
   "source": [
    "(require '[clojupyter.misc.helper :as h])\n",
    "(h/add-dependencies '[uncomplicate/neanderthal \"0.17.2\"]);"
   ]
  },
  {
   "cell_type": "code",
   "execution_count": 2,
   "metadata": {
    "collapsed": false,
    "scrolled": false
   },
   "outputs": [],
   "source": [
    "(require '[uncomplicate.neanderthal.core :refer :all]\n",
    "         '[uncomplicate.neanderthal.native :refer :all])"
   ]
  },
  {
   "cell_type": "code",
   "execution_count": 3,
   "metadata": {
    "collapsed": false
   },
   "outputs": [
    {
     "data": {
      "text/plain": [
       "140.0"
      ]
     },
     "execution_count": 3,
     "metadata": {},
     "output_type": "execute_result"
    }
   ],
   "source": [
    "(def x (dv 1 2 3))\n",
    "(def y (dv 10 20 30))\n",
    "(dot x y)"
   ]
  },
  {
   "cell_type": "code",
   "execution_count": 22,
   "metadata": {
    "collapsed": false
   },
   "outputs": [
    {
     "name": "stdout",
     "output_type": "stream",
     "text": [
      "#RealGEMatrix[double, mxn:3x3, layout:column, offset:0]\n",
      "   ▥       ↓       ↓       ↓       ┓    \n",
      "   →       1.00    4.00    1.00         \n",
      "   →       2.00    5.00    2.00         \n",
      "   →       3.00    6.00    3.00         \n",
      "   ┗                               ┛    \n",
      "\n"
     ]
    }
   ],
   "source": [
    "(def a (dge 3 2 [1 2 3 \n",
    "                 4 5 6]))\n",
    "(def b (dge 2 3 [1 0 \n",
    "                 0 1 \n",
    "                 1 0]))\n",
    "(println (mm a b))"
   ]
  },
  {
   "cell_type": "code",
   "execution_count": 23,
   "metadata": {
    "collapsed": false
   },
   "outputs": [
    {
     "name": "stdout",
     "output_type": "stream",
     "text": [
      "#RealGEMatrix[double, mxn:2x2, layout:column, offset:0]\n",
      "   ▥       ↓       ↓       ┓    \n",
      "   →       1.00    3.00         \n",
      "   →       2.00    4.00         \n",
      "   ┗                       ┛    \n",
      "\n"
     ]
    }
   ],
   "source": [
    "(def I (dge 2 2 [1 0\n",
    "                 0 1]))\n",
    "(def A (dge 2 2 [1 2\n",
    "                 3 4]))\n",
    "(println (mm A I))"
   ]
  }
 ],
 "metadata": {
  "kernelspec": {
   "display_name": "Clojure",
   "language": "clojure",
   "name": "clojure"
  },
  "language_info": {
   "file_extension": ".clj",
   "mimetype": "text/x-clojure",
   "name": "clojure",
   "version": "1.8.0"
  }
 },
 "nbformat": 4,
 "nbformat_minor": 2
}
